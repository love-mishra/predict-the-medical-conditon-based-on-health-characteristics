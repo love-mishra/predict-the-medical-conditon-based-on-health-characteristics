{
 "cells": [
  {
   "cell_type": "code",
   "execution_count": 1,
   "id": "7966db92",
   "metadata": {
    "_cell_guid": "b1076dfc-b9ad-4769-8c92-a6c4dae69d19",
    "_uuid": "8f2839f25d086af736a60e9eeb907d3b93b6e0e5",
    "execution": {
     "iopub.execute_input": "2023-10-16T06:49:53.992568Z",
     "iopub.status.busy": "2023-10-16T06:49:53.992139Z",
     "iopub.status.idle": "2023-10-16T06:49:56.375209Z",
     "shell.execute_reply": "2023-10-16T06:49:56.374455Z"
    },
    "papermill": {
     "duration": 2.396082,
     "end_time": "2023-10-16T06:49:56.377358",
     "exception": false,
     "start_time": "2023-10-16T06:49:53.981276",
     "status": "completed"
    },
    "tags": []
   },
   "outputs": [
    {
     "name": "stderr",
     "output_type": "stream",
     "text": [
      "/opt/conda/lib/python3.10/site-packages/scipy/__init__.py:146: UserWarning: A NumPy version >=1.16.5 and <1.23.0 is required for this version of SciPy (detected version 1.23.5\n",
      "  warnings.warn(f\"A NumPy version >={np_minversion} and <{np_maxversion}\"\n"
     ]
    },
    {
     "name": "stdout",
     "output_type": "stream",
     "text": [
      "/kaggle/input/icr-identify-age-related-conditions/sample_submission.csv\n",
      "/kaggle/input/icr-identify-age-related-conditions/greeks.csv\n",
      "/kaggle/input/icr-identify-age-related-conditions/train.csv\n",
      "/kaggle/input/icr-identify-age-related-conditions/test.csv\n"
     ]
    }
   ],
   "source": [
    "# This Python 3 environment comes with many helpful analytics libraries installed\n",
    "# It is defined by the kaggle/python Docker image: https://github.com/kaggle/docker-python\n",
    "# For example, here's several helpful packages to load\n",
    "\n",
    "import numpy as np # linear algebra\n",
    "import pandas as pd # data processing, CSV file I/O (e.g. pd.read_csv)\n",
    "import matplotlib.pyplot as plt\n",
    "import seaborn as sns\n",
    "from sklearn.ensemble import RandomForestRegressor\n",
    "from sklearn.decomposition import PCA\n",
    "from sklearn.impute import KNNImputer\n",
    "\n",
    "from scipy.stats import mannwhitneyu, kruskal\n",
    "from scipy.stats import f_oneway\n",
    "from sklearn.model_selection import train_test_split\n",
    "from sklearn.ensemble import StackingClassifier\n",
    "from sklearn.linear_model import LogisticRegression\n",
    "from sklearn.tree import DecisionTreeClassifier\n",
    "from sklearn.model_selection import GridSearchCV, cross_val_score, cross_val_predict\n",
    "from sklearn.metrics import accuracy_score, f1_score, roc_auc_score, classification_report, log_loss, confusion_matrix\n",
    "from xgboost import XGBClassifier, XGBRFClassifier\n",
    "from sklearn.utils import shuffle\n",
    "\n",
    "def warn(*args, **kwargs):\n",
    "    pass\n",
    "import warnings\n",
    "warnings.warn = warn\n",
    "warnings.filterwarnings('ignore')\n",
    "# Input data files are available in the read-only \"../input/\" directory\n",
    "# For example, running this (by clicking run or pressing Shift+Enter) will list all files under the input directory\n",
    "\n",
    "import os\n",
    "for dirname, _, filenames in os.walk('/kaggle/input'):\n",
    "    for filename in filenames:\n",
    "        print(os.path.join(dirname, filename))\n",
    "\n",
    "# You can write up to 20GB to the current directory (/kaggle/working/) that gets preserved as output when you create a version using \"Save & Run All\" \n",
    "# You can also write temporary files to /kaggle/temp/, but they won't be saved outside of the current session"
   ]
  },
  {
   "cell_type": "markdown",
   "id": "3773fd2f",
   "metadata": {
    "papermill": {
     "duration": 0.009607,
     "end_time": "2023-10-16T06:49:56.394368",
     "exception": false,
     "start_time": "2023-10-16T06:49:56.384761",
     "status": "completed"
    },
    "tags": []
   },
   "source": [
    "## Dataset"
   ]
  },
  {
   "cell_type": "code",
   "execution_count": 2,
   "id": "8564b78a",
   "metadata": {
    "execution": {
     "iopub.execute_input": "2023-10-16T06:49:56.417218Z",
     "iopub.status.busy": "2023-10-16T06:49:56.416852Z",
     "iopub.status.idle": "2023-10-16T06:49:56.469397Z",
     "shell.execute_reply": "2023-10-16T06:49:56.468222Z"
    },
    "papermill": {
     "duration": 0.066425,
     "end_time": "2023-10-16T06:49:56.472740",
     "exception": false,
     "start_time": "2023-10-16T06:49:56.406315",
     "status": "completed"
    },
    "tags": []
   },
   "outputs": [],
   "source": [
    "train=pd.read_csv('/kaggle/input/icr-identify-age-related-conditions/train.csv',index_col = 'Id')\n",
    "test=pd.read_csv('/kaggle/input/icr-identify-age-related-conditions/test.csv', index_col = 'Id')"
   ]
  },
  {
   "cell_type": "code",
   "execution_count": 3,
   "id": "b604c587",
   "metadata": {
    "execution": {
     "iopub.execute_input": "2023-10-16T06:49:56.497188Z",
     "iopub.status.busy": "2023-10-16T06:49:56.496660Z",
     "iopub.status.idle": "2023-10-16T06:49:56.643306Z",
     "shell.execute_reply": "2023-10-16T06:49:56.641577Z"
    },
    "papermill": {
     "duration": 0.162581,
     "end_time": "2023-10-16T06:49:56.647697",
     "exception": false,
     "start_time": "2023-10-16T06:49:56.485116",
     "status": "completed"
    },
    "tags": []
   },
   "outputs": [],
   "source": [
    "imputer = KNNImputer()\n",
    "data_to_impute = train.drop(columns = ['EJ', 'Class'], axis = 1)\n",
    "data_imputed = imputer.fit_transform(data_to_impute)\n",
    "data_imputed\n",
    "data_imp = pd.DataFrame(data = data_imputed, index = data_to_impute.index, columns = data_to_impute.columns.to_list())\n",
    "data1 = pd.concat([data_imp, train.EJ, train.Class], axis = 1)\n",
    "# data1.isnull().sum()"
   ]
  },
  {
   "cell_type": "code",
   "execution_count": 4,
   "id": "4c52cfca",
   "metadata": {
    "execution": {
     "iopub.execute_input": "2023-10-16T06:49:56.677711Z",
     "iopub.status.busy": "2023-10-16T06:49:56.676857Z",
     "iopub.status.idle": "2023-10-16T06:49:56.711742Z",
     "shell.execute_reply": "2023-10-16T06:49:56.710604Z"
    },
    "papermill": {
     "duration": 0.04641,
     "end_time": "2023-10-16T06:49:56.714582",
     "exception": false,
     "start_time": "2023-10-16T06:49:56.668172",
     "status": "completed"
    },
    "tags": []
   },
   "outputs": [
    {
     "data": {
      "text/html": [
       "<div>\n",
       "<style scoped>\n",
       "    .dataframe tbody tr th:only-of-type {\n",
       "        vertical-align: middle;\n",
       "    }\n",
       "\n",
       "    .dataframe tbody tr th {\n",
       "        vertical-align: top;\n",
       "    }\n",
       "\n",
       "    .dataframe thead th {\n",
       "        text-align: right;\n",
       "    }\n",
       "</style>\n",
       "<table border=\"1\" class=\"dataframe\">\n",
       "  <thead>\n",
       "    <tr style=\"text-align: right;\">\n",
       "      <th></th>\n",
       "      <th>AB</th>\n",
       "      <th>AF</th>\n",
       "      <th>AH</th>\n",
       "      <th>AM</th>\n",
       "      <th>AR</th>\n",
       "      <th>AX</th>\n",
       "      <th>AY</th>\n",
       "      <th>AZ</th>\n",
       "      <th>BC</th>\n",
       "      <th>BD</th>\n",
       "      <th>...</th>\n",
       "      <th>FR</th>\n",
       "      <th>FS</th>\n",
       "      <th>GB</th>\n",
       "      <th>GE</th>\n",
       "      <th>GF</th>\n",
       "      <th>GH</th>\n",
       "      <th>GI</th>\n",
       "      <th>GL</th>\n",
       "      <th>EJ</th>\n",
       "      <th>Class</th>\n",
       "    </tr>\n",
       "    <tr>\n",
       "      <th>Id</th>\n",
       "      <th></th>\n",
       "      <th></th>\n",
       "      <th></th>\n",
       "      <th></th>\n",
       "      <th></th>\n",
       "      <th></th>\n",
       "      <th></th>\n",
       "      <th></th>\n",
       "      <th></th>\n",
       "      <th></th>\n",
       "      <th></th>\n",
       "      <th></th>\n",
       "      <th></th>\n",
       "      <th></th>\n",
       "      <th></th>\n",
       "      <th></th>\n",
       "      <th></th>\n",
       "      <th></th>\n",
       "      <th></th>\n",
       "      <th></th>\n",
       "      <th></th>\n",
       "    </tr>\n",
       "  </thead>\n",
       "  <tbody>\n",
       "    <tr>\n",
       "      <th>000ff2bfdfe9</th>\n",
       "      <td>0.209377</td>\n",
       "      <td>3109.03329</td>\n",
       "      <td>85.200147</td>\n",
       "      <td>22.394407</td>\n",
       "      <td>8.138688</td>\n",
       "      <td>0.699861</td>\n",
       "      <td>0.025578</td>\n",
       "      <td>9.812214</td>\n",
       "      <td>5.555634</td>\n",
       "      <td>4126.58731</td>\n",
       "      <td>...</td>\n",
       "      <td>1.73855</td>\n",
       "      <td>0.094822</td>\n",
       "      <td>11.339138</td>\n",
       "      <td>72.611063</td>\n",
       "      <td>2003.810319</td>\n",
       "      <td>22.136229</td>\n",
       "      <td>69.834944</td>\n",
       "      <td>0.120343</td>\n",
       "      <td>B</td>\n",
       "      <td>1</td>\n",
       "    </tr>\n",
       "    <tr>\n",
       "      <th>007255e47698</th>\n",
       "      <td>0.145282</td>\n",
       "      <td>978.76416</td>\n",
       "      <td>85.200147</td>\n",
       "      <td>36.968889</td>\n",
       "      <td>8.138688</td>\n",
       "      <td>3.632190</td>\n",
       "      <td>0.025578</td>\n",
       "      <td>13.517790</td>\n",
       "      <td>1.229900</td>\n",
       "      <td>5496.92824</td>\n",
       "      <td>...</td>\n",
       "      <td>0.49706</td>\n",
       "      <td>0.568932</td>\n",
       "      <td>9.292698</td>\n",
       "      <td>72.611063</td>\n",
       "      <td>27981.562750</td>\n",
       "      <td>29.135430</td>\n",
       "      <td>32.131996</td>\n",
       "      <td>21.978000</td>\n",
       "      <td>A</td>\n",
       "      <td>0</td>\n",
       "    </tr>\n",
       "    <tr>\n",
       "      <th>013f2bd269f5</th>\n",
       "      <td>0.470030</td>\n",
       "      <td>2635.10654</td>\n",
       "      <td>85.200147</td>\n",
       "      <td>32.360553</td>\n",
       "      <td>8.138688</td>\n",
       "      <td>6.732840</td>\n",
       "      <td>0.025578</td>\n",
       "      <td>12.824570</td>\n",
       "      <td>1.229900</td>\n",
       "      <td>5135.78024</td>\n",
       "      <td>...</td>\n",
       "      <td>0.97556</td>\n",
       "      <td>1.198821</td>\n",
       "      <td>37.077772</td>\n",
       "      <td>88.609437</td>\n",
       "      <td>13676.957810</td>\n",
       "      <td>28.022851</td>\n",
       "      <td>35.192676</td>\n",
       "      <td>0.196941</td>\n",
       "      <td>B</td>\n",
       "      <td>0</td>\n",
       "    </tr>\n",
       "    <tr>\n",
       "      <th>043ac50845d5</th>\n",
       "      <td>0.252107</td>\n",
       "      <td>3819.65177</td>\n",
       "      <td>120.201618</td>\n",
       "      <td>77.112203</td>\n",
       "      <td>8.138688</td>\n",
       "      <td>3.685344</td>\n",
       "      <td>0.025578</td>\n",
       "      <td>11.053708</td>\n",
       "      <td>1.229900</td>\n",
       "      <td>4169.67738</td>\n",
       "      <td>...</td>\n",
       "      <td>0.49706</td>\n",
       "      <td>0.284466</td>\n",
       "      <td>18.529584</td>\n",
       "      <td>82.416803</td>\n",
       "      <td>2094.262452</td>\n",
       "      <td>39.948656</td>\n",
       "      <td>90.493248</td>\n",
       "      <td>0.155829</td>\n",
       "      <td>B</td>\n",
       "      <td>0</td>\n",
       "    </tr>\n",
       "    <tr>\n",
       "      <th>044fb8a146ec</th>\n",
       "      <td>0.380297</td>\n",
       "      <td>3733.04844</td>\n",
       "      <td>85.200147</td>\n",
       "      <td>14.103738</td>\n",
       "      <td>8.138688</td>\n",
       "      <td>3.942255</td>\n",
       "      <td>0.054810</td>\n",
       "      <td>3.396778</td>\n",
       "      <td>102.151980</td>\n",
       "      <td>5728.73412</td>\n",
       "      <td>...</td>\n",
       "      <td>48.50134</td>\n",
       "      <td>0.121914</td>\n",
       "      <td>16.408728</td>\n",
       "      <td>146.109943</td>\n",
       "      <td>8524.370502</td>\n",
       "      <td>45.381316</td>\n",
       "      <td>36.262628</td>\n",
       "      <td>0.096614</td>\n",
       "      <td>B</td>\n",
       "      <td>1</td>\n",
       "    </tr>\n",
       "  </tbody>\n",
       "</table>\n",
       "<p>5 rows × 57 columns</p>\n",
       "</div>"
      ],
      "text/plain": [
       "                    AB          AF          AH         AM        AR        AX  \\\n",
       "Id                                                                              \n",
       "000ff2bfdfe9  0.209377  3109.03329   85.200147  22.394407  8.138688  0.699861   \n",
       "007255e47698  0.145282   978.76416   85.200147  36.968889  8.138688  3.632190   \n",
       "013f2bd269f5  0.470030  2635.10654   85.200147  32.360553  8.138688  6.732840   \n",
       "043ac50845d5  0.252107  3819.65177  120.201618  77.112203  8.138688  3.685344   \n",
       "044fb8a146ec  0.380297  3733.04844   85.200147  14.103738  8.138688  3.942255   \n",
       "\n",
       "                    AY         AZ          BC         BD   ...        FR  \\\n",
       "Id                                                         ...             \n",
       "000ff2bfdfe9  0.025578   9.812214    5.555634  4126.58731  ...   1.73855   \n",
       "007255e47698  0.025578  13.517790    1.229900  5496.92824  ...   0.49706   \n",
       "013f2bd269f5  0.025578  12.824570    1.229900  5135.78024  ...   0.97556   \n",
       "043ac50845d5  0.025578  11.053708    1.229900  4169.67738  ...   0.49706   \n",
       "044fb8a146ec  0.054810   3.396778  102.151980  5728.73412  ...  48.50134   \n",
       "\n",
       "                    FS         GB          GE            GF         GH  \\\n",
       "Id                                                                       \n",
       "000ff2bfdfe9  0.094822  11.339138   72.611063   2003.810319  22.136229   \n",
       "007255e47698  0.568932   9.292698   72.611063  27981.562750  29.135430   \n",
       "013f2bd269f5  1.198821  37.077772   88.609437  13676.957810  28.022851   \n",
       "043ac50845d5  0.284466  18.529584   82.416803   2094.262452  39.948656   \n",
       "044fb8a146ec  0.121914  16.408728  146.109943   8524.370502  45.381316   \n",
       "\n",
       "                     GI         GL  EJ  Class  \n",
       "Id                                             \n",
       "000ff2bfdfe9  69.834944   0.120343   B      1  \n",
       "007255e47698  32.131996  21.978000   A      0  \n",
       "013f2bd269f5  35.192676   0.196941   B      0  \n",
       "043ac50845d5  90.493248   0.155829   B      0  \n",
       "044fb8a146ec  36.262628   0.096614   B      1  \n",
       "\n",
       "[5 rows x 57 columns]"
      ]
     },
     "execution_count": 4,
     "metadata": {},
     "output_type": "execute_result"
    }
   ],
   "source": [
    "data1.head()"
   ]
  },
  {
   "cell_type": "code",
   "execution_count": 5,
   "id": "a6a41187",
   "metadata": {
    "execution": {
     "iopub.execute_input": "2023-10-16T06:49:56.731342Z",
     "iopub.status.busy": "2023-10-16T06:49:56.730876Z",
     "iopub.status.idle": "2023-10-16T06:49:57.732245Z",
     "shell.execute_reply": "2023-10-16T06:49:57.731501Z"
    },
    "papermill": {
     "duration": 1.011793,
     "end_time": "2023-10-16T06:49:57.734053",
     "exception": false,
     "start_time": "2023-10-16T06:49:56.722260",
     "status": "completed"
    },
    "tags": []
   },
   "outputs": [
    {
     "data": {
      "image/png": "[encoded data removed]",
      "text/plain": [
       "<Figure size 1500x700 with 1 Axes>"
      ]
     },
     "metadata": {},
     "output_type": "display_data"
    }
   ],
   "source": [
    "data_corr = data1.drop(columns = ['EJ', 'Class'], axis = 1)\n",
    "corr_df = data_corr.corr()\n",
    "corr_df = corr_df[(abs(corr_df)) >= 0.40]\n",
    "plt.figure(figsize=(15,7))\n",
    "sns.heatmap(corr_df, annot = True, cmap='rocket_r', cbar = False)\n",
    "plt.grid()\n",
    "plt.show()"
   ]
  },
  {
   "cell_type": "markdown",
   "id": "84f44121",
   "metadata": {
    "papermill": {
     "duration": 0.009004,
     "end_time": "2023-10-16T06:49:57.752643",
     "exception": false,
     "start_time": "2023-10-16T06:49:57.743639",
     "status": "completed"
    },
    "tags": []
   },
   "source": [
    "## Pearson correlation"
   ]
  },
  {
   "cell_type": "code",
   "execution_count": 6,
   "id": "f6986fd1",
   "metadata": {
    "execution": {
     "iopub.execute_input": "2023-10-16T06:49:57.772854Z",
     "iopub.status.busy": "2023-10-16T06:49:57.772502Z",
     "iopub.status.idle": "2023-10-16T06:49:58.455599Z",
     "shell.execute_reply": "2023-10-16T06:49:58.454746Z"
    },
    "papermill": {
     "duration": 0.69638,
     "end_time": "2023-10-16T06:49:58.458347",
     "exception": false,
     "start_time": "2023-10-16T06:49:57.761967",
     "status": "completed"
    },
    "tags": []
   },
   "outputs": [
    {
     "data": {
      "image/png": "[encoded data removed]",
      "text/plain": [
       "<Figure size 1200x1200 with 2 Axes>"
      ]
     },
     "metadata": {},
     "output_type": "display_data"
    }
   ],
   "source": [
    "data_corr = data1.drop(columns = ['EJ', 'Class'], axis = 1)\n",
    "corr_1st_cluster = data_corr[['AH', 'AR', 'CH', 'CL', 'CS', 'DV', 'EB', 'EP', 'DU', 'EH', 'FD ']]\n",
    "corr_df = corr_1st_cluster.corr()\n",
    "plt.figure(figsize=(12,12))\n",
    "sns.heatmap(corr_df, annot = True, cmap='rocket_r', cbar = True)\n",
    "plt.show()"
   ]
  },
  {
   "cell_type": "markdown",
   "id": "2fe45a81",
   "metadata": {
    "papermill": {
     "duration": 0.010967,
     "end_time": "2023-10-16T06:49:58.481797",
     "exception": false,
     "start_time": "2023-10-16T06:49:58.470830",
     "status": "completed"
    },
    "tags": []
   },
   "source": [
    "#### Use Anova test to get the important features"
   ]
  },
  {
   "cell_type": "code",
   "execution_count": 7,
   "id": "50310623",
   "metadata": {
    "execution": {
     "iopub.execute_input": "2023-10-16T06:49:58.506379Z",
     "iopub.status.busy": "2023-10-16T06:49:58.505671Z",
     "iopub.status.idle": "2023-10-16T06:49:58.619109Z",
     "shell.execute_reply": "2023-10-16T06:49:58.618061Z"
    },
    "papermill": {
     "duration": 0.128499,
     "end_time": "2023-10-16T06:49:58.621359",
     "exception": false,
     "start_time": "2023-10-16T06:49:58.492860",
     "status": "completed"
    },
    "tags": []
   },
   "outputs": [
    {
     "name": "stdout",
     "output_type": "stream",
     "text": [
      "AH U rank: 28567.5 P value: 0.4585691165063628\n",
      "AX U rank: 24896.5 P value: 0.12387252473131435\n",
      "AY U rank: 29748.0 P value: 0.1042758173936365\n",
      "AZ U rank: 26577.5 P value: 0.5891666444372265\n",
      "BD  U rank: 28118.0 P value: 0.7074242520656782\n",
      "BR U rank: 27889.5 P value: 0.8106634220534192\n",
      "CB U rank: 28753.5 P value: 0.4512820352483915\n",
      "CF U rank: 27832.0 P value: 0.8373050274357787\n",
      "CH U rank: 27342.5 P value: 0.9322619817373052\n",
      "CL U rank: 24861.5 P value: 0.0795676528595848\n",
      "CS U rank: 29172.0 P value: 0.31646268472688366\n",
      "CW  U rank: 30251.5 P value: 0.09534622073233975\n",
      "DN U rank: 29316.0 P value: 0.27689441334062126\n",
      "DY U rank: 24242.5 P value: 0.05392796919927672\n",
      "EG U rank: 27423.0 P value: 0.9703690109171661\n",
      "EL U rank: 24654.0 P value: 0.08193576667843223\n",
      "EP U rank: 29751.5 P value: 0.14580032281606758\n",
      "EU U rank: 25132.0 P value: 0.15867656516656026\n",
      "FC U rank: 27190.0 P value: 0.8605895602308139\n",
      "FS U rank: 26596.5 P value: 0.5922925334287551\n",
      "GB U rank: 26190.0 P value: 0.44132864824650264\n",
      "GE U rank: 30430.0 P value: 0.05208627521686564\n",
      "GH U rank: 27298.0 P value: 0.911270308447415\n",
      "GI U rank: 24678.5 P value: 0.09526084456731561\n"
     ]
    },
    {
     "data": {
      "text/plain": [
       "True"
      ]
     },
     "execution_count": 7,
     "metadata": {},
     "output_type": "execute_result"
    }
   ],
   "source": [
    "data_to_analyze = data1.drop('EJ', axis = 1) #we need to drop object variable for these tests\n",
    "data_class_0 = data_to_analyze[data_to_analyze.Class == 0]\n",
    "data_class_1 = data_to_analyze[data_to_analyze.Class == 1]\n",
    "\n",
    "features_to_drop_Utest = []\n",
    "features_to_drop_Htest = []\n",
    "columns = data_to_analyze.columns.to_list()\n",
    "columns.remove('Class')\n",
    "\n",
    "for column in columns:\n",
    "    U_rank, p_val1 = mannwhitneyu(data_class_0[column], data_class_1[column])\n",
    "    if p_val1 > 0.05:\n",
    "        features_to_drop_Utest.append(column)\n",
    "        print(column, 'U rank:', U_rank, 'P value:', p_val1)\n",
    "    H_rank, p_val2 = kruskal(data_class_0[column], data_class_1[column])\n",
    "    if p_val2 > 0.05:\n",
    "        features_to_drop_Htest.append(column)\n",
    "\n",
    "#We need to compare the tests performance\n",
    "features_to_drop_Htest == features_to_drop_Utest #Perfomance checking for the both tests"
   ]
  },
  {
   "cell_type": "code",
   "execution_count": 8,
   "id": "ed32e7be",
   "metadata": {
    "execution": {
     "iopub.execute_input": "2023-10-16T06:49:58.645249Z",
     "iopub.status.busy": "2023-10-16T06:49:58.644883Z",
     "iopub.status.idle": "2023-10-16T06:49:58.649598Z",
     "shell.execute_reply": "2023-10-16T06:49:58.648621Z"
    },
    "papermill": {
     "duration": 0.019745,
     "end_time": "2023-10-16T06:49:58.652337",
     "exception": false,
     "start_time": "2023-10-16T06:49:58.632592",
     "status": "completed"
    },
    "tags": []
   },
   "outputs": [
    {
     "name": "stdout",
     "output_type": "stream",
     "text": [
      "Features to drop: ['AH', 'AX', 'AY', 'AZ', 'BD ', 'BR', 'CB', 'CF', 'CH', 'CL', 'CS', 'CW ', 'DN', 'DY', 'EG', 'EL', 'EP', 'EU', 'FC', 'FS', 'GB', 'GE', 'GH', 'GI'] \n",
      " Quantity: 24\n"
     ]
    }
   ],
   "source": [
    "print('Features to drop:', features_to_drop_Utest, '\\n Quantity:', len(features_to_drop_Utest))"
   ]
  },
  {
   "cell_type": "code",
   "execution_count": 9,
   "id": "fdc02cf2",
   "metadata": {
    "execution": {
     "iopub.execute_input": "2023-10-16T06:49:58.677152Z",
     "iopub.status.busy": "2023-10-16T06:49:58.676774Z",
     "iopub.status.idle": "2023-10-16T06:49:58.713491Z",
     "shell.execute_reply": "2023-10-16T06:49:58.712395Z"
    },
    "papermill": {
     "duration": 0.052063,
     "end_time": "2023-10-16T06:49:58.715748",
     "exception": false,
     "start_time": "2023-10-16T06:49:58.663685",
     "status": "completed"
    },
    "tags": []
   },
   "outputs": [
    {
     "name": "stdout",
     "output_type": "stream",
     "text": [
      "AH F: 0.9028003294166651 P value: 0.34240518364921013\n",
      "AX F: 3.288271989539755 P value: 0.07026373631825462\n",
      "AY F: 2.3607184918846453 P value: 0.12493916238381524\n",
      "AZ F: 0.0007053205100172908 P value: 0.9788209906464335\n",
      "BD  F: 1.1080539539558618 P value: 0.2929187706196118\n",
      "BR F: 0.14146444750050208 P value: 0.7069591819194481\n",
      "CB F: 0.41946969660674166 P value: 0.517443469153401\n",
      "CF F: 1.4361846527152875 P value: 0.2312193467137219\n",
      "CH F: 0.05105979900145076 P value: 0.8213043745906105\n",
      "CL F: 1.454548328693503 P value: 0.2282633010843752\n",
      "CS F: 0.9389045055010414 P value: 0.3329406409464437\n",
      "CW  F: 1.7219087512740827 P value: 0.1899370757777987\n",
      "DN F: 0.9616555298034857 P value: 0.32715572514619407\n",
      "DV F: 1.6772309566758525 P value: 0.1957787538047802\n",
      "EG F: 0.00031332948627996063 P value: 0.9858830317986427\n",
      "EL F: 2.6170012213169622 P value: 0.10623681173590564\n",
      "EP F: 3.81197216618253 P value: 0.05134081654457645\n",
      "EU F: 1.8232246979392093 P value: 0.17742659822745485\n",
      "FC F: 0.022279175923753454 P value: 0.8813957486296219\n",
      "FS F: 0.9621431587840991 P value: 0.3270332047916801\n",
      "GB F: 1.5632519875986108 P value: 0.21166521810832983\n",
      "GH F: 0.05519165487111284 P value: 0.8143420059794999\n",
      "GI F: 3.7100316863205536 P value: 0.054546953012873454\n"
     ]
    },
    {
     "data": {
      "text/plain": [
       "False"
      ]
     },
     "execution_count": 9,
     "metadata": {},
     "output_type": "execute_result"
    }
   ],
   "source": [
    "#Anova\n",
    "\n",
    "features_to_drop_ANOVA = []\n",
    "columns = data_to_analyze.columns.to_list()\n",
    "columns.remove('Class')\n",
    "\n",
    "for column in columns:\n",
    "    F, p_val = f_oneway(np.log1p(data_class_0[column]), np.log1p(data_class_1[column]))\n",
    "    if p_val > 0.05:\n",
    "        features_to_drop_ANOVA.append(column)\n",
    "        print(column, 'F:', F, 'P value:', p_val)\n",
    "\n",
    "#We need to compare the tests performance\n",
    "features_to_drop_Utest == features_to_drop_ANOVA"
   ]
  },
  {
   "cell_type": "code",
   "execution_count": 10,
   "id": "e4dad4be",
   "metadata": {
    "execution": {
     "iopub.execute_input": "2023-10-16T06:49:58.740570Z",
     "iopub.status.busy": "2023-10-16T06:49:58.740165Z",
     "iopub.status.idle": "2023-10-16T06:49:58.744794Z",
     "shell.execute_reply": "2023-10-16T06:49:58.743750Z"
    },
    "papermill": {
     "duration": 0.019126,
     "end_time": "2023-10-16T06:49:58.746630",
     "exception": false,
     "start_time": "2023-10-16T06:49:58.727504",
     "status": "completed"
    },
    "tags": []
   },
   "outputs": [],
   "source": [
    "features_to_drop_final = list(set(features_to_drop_Utest).intersection(set(features_to_drop_ANOVA)))"
   ]
  },
  {
   "cell_type": "code",
   "execution_count": 11,
   "id": "c1f8c36f",
   "metadata": {
    "execution": {
     "iopub.execute_input": "2023-10-16T06:49:58.771405Z",
     "iopub.status.busy": "2023-10-16T06:49:58.770798Z",
     "iopub.status.idle": "2023-10-16T06:49:58.777902Z",
     "shell.execute_reply": "2023-10-16T06:49:58.776702Z"
    },
    "papermill": {
     "duration": 0.022129,
     "end_time": "2023-10-16T06:49:58.780162",
     "exception": false,
     "start_time": "2023-10-16T06:49:58.758033",
     "status": "completed"
    },
    "tags": []
   },
   "outputs": [
    {
     "data": {
      "text/plain": [
       "Index(['AB', 'AF', 'AH', 'AM', 'AR', 'AX', 'AY', 'AZ', 'BC', 'BD ', 'BN', 'BP',\n",
       "       'BQ', 'BR', 'BZ', 'CB', 'CC', 'CD ', 'CF', 'CH', 'CL', 'CR', 'CS', 'CU',\n",
       "       'CW ', 'DA', 'DE', 'DF', 'DH', 'DI', 'DL', 'DN', 'DU', 'DV', 'DY', 'EB',\n",
       "       'EE', 'EG', 'EH', 'EL', 'EP', 'EU', 'FC', 'FD ', 'FE', 'FI', 'FL', 'FR',\n",
       "       'FS', 'GB', 'GE', 'GF', 'GH', 'GI', 'GL', 'EJ', 'Class'],\n",
       "      dtype='object')"
      ]
     },
     "execution_count": 11,
     "metadata": {},
     "output_type": "execute_result"
    }
   ],
   "source": [
    "data1.columns"
   ]
  },
  {
   "cell_type": "code",
   "execution_count": 12,
   "id": "e8ca4e13",
   "metadata": {
    "execution": {
     "iopub.execute_input": "2023-10-16T06:49:58.805034Z",
     "iopub.status.busy": "2023-10-16T06:49:58.804697Z",
     "iopub.status.idle": "2023-10-16T06:49:58.835764Z",
     "shell.execute_reply": "2023-10-16T06:49:58.834988Z"
    },
    "papermill": {
     "duration": 0.045866,
     "end_time": "2023-10-16T06:49:58.837673",
     "exception": false,
     "start_time": "2023-10-16T06:49:58.791807",
     "status": "completed"
    },
    "tags": []
   },
   "outputs": [
    {
     "data": {
      "text/html": [
       "<div>\n",
       "<style scoped>\n",
       "    .dataframe tbody tr th:only-of-type {\n",
       "        vertical-align: middle;\n",
       "    }\n",
       "\n",
       "    .dataframe tbody tr th {\n",
       "        vertical-align: top;\n",
       "    }\n",
       "\n",
       "    .dataframe thead th {\n",
       "        text-align: right;\n",
       "    }\n",
       "</style>\n",
       "<table border=\"1\" class=\"dataframe\">\n",
       "  <thead>\n",
       "    <tr style=\"text-align: right;\">\n",
       "      <th></th>\n",
       "      <th>AB</th>\n",
       "      <th>AF</th>\n",
       "      <th>AM</th>\n",
       "      <th>AR</th>\n",
       "      <th>BC</th>\n",
       "      <th>BN</th>\n",
       "      <th>BP</th>\n",
       "      <th>BQ</th>\n",
       "      <th>BZ</th>\n",
       "      <th>CC</th>\n",
       "      <th>...</th>\n",
       "      <th>FE</th>\n",
       "      <th>FI</th>\n",
       "      <th>FL</th>\n",
       "      <th>FR</th>\n",
       "      <th>GE</th>\n",
       "      <th>GF</th>\n",
       "      <th>GL</th>\n",
       "      <th>Class</th>\n",
       "      <th>A</th>\n",
       "      <th>B</th>\n",
       "    </tr>\n",
       "    <tr>\n",
       "      <th>Id</th>\n",
       "      <th></th>\n",
       "      <th></th>\n",
       "      <th></th>\n",
       "      <th></th>\n",
       "      <th></th>\n",
       "      <th></th>\n",
       "      <th></th>\n",
       "      <th></th>\n",
       "      <th></th>\n",
       "      <th></th>\n",
       "      <th></th>\n",
       "      <th></th>\n",
       "      <th></th>\n",
       "      <th></th>\n",
       "      <th></th>\n",
       "      <th></th>\n",
       "      <th></th>\n",
       "      <th></th>\n",
       "      <th></th>\n",
       "      <th></th>\n",
       "      <th></th>\n",
       "    </tr>\n",
       "  </thead>\n",
       "  <tbody>\n",
       "    <tr>\n",
       "      <th>000ff2bfdfe9</th>\n",
       "      <td>0.209377</td>\n",
       "      <td>3109.03329</td>\n",
       "      <td>22.394407</td>\n",
       "      <td>8.138688</td>\n",
       "      <td>5.555634</td>\n",
       "      <td>22.5984</td>\n",
       "      <td>175.638726</td>\n",
       "      <td>152.707705</td>\n",
       "      <td>257.432377</td>\n",
       "      <td>0.563481</td>\n",
       "      <td>...</td>\n",
       "      <td>9028.291921</td>\n",
       "      <td>3.583450</td>\n",
       "      <td>7.298162</td>\n",
       "      <td>1.73855</td>\n",
       "      <td>72.611063</td>\n",
       "      <td>2003.810319</td>\n",
       "      <td>0.120343</td>\n",
       "      <td>1</td>\n",
       "      <td>0</td>\n",
       "      <td>1</td>\n",
       "    </tr>\n",
       "    <tr>\n",
       "      <th>007255e47698</th>\n",
       "      <td>0.145282</td>\n",
       "      <td>978.76416</td>\n",
       "      <td>36.968889</td>\n",
       "      <td>8.138688</td>\n",
       "      <td>1.229900</td>\n",
       "      <td>19.4205</td>\n",
       "      <td>155.868030</td>\n",
       "      <td>14.754720</td>\n",
       "      <td>257.432377</td>\n",
       "      <td>0.484710</td>\n",
       "      <td>...</td>\n",
       "      <td>6785.003474</td>\n",
       "      <td>10.358927</td>\n",
       "      <td>0.173229</td>\n",
       "      <td>0.49706</td>\n",
       "      <td>72.611063</td>\n",
       "      <td>27981.562750</td>\n",
       "      <td>21.978000</td>\n",
       "      <td>0</td>\n",
       "      <td>1</td>\n",
       "      <td>0</td>\n",
       "    </tr>\n",
       "    <tr>\n",
       "      <th>013f2bd269f5</th>\n",
       "      <td>0.470030</td>\n",
       "      <td>2635.10654</td>\n",
       "      <td>32.360553</td>\n",
       "      <td>8.138688</td>\n",
       "      <td>1.229900</td>\n",
       "      <td>26.4825</td>\n",
       "      <td>128.988531</td>\n",
       "      <td>219.320160</td>\n",
       "      <td>257.432377</td>\n",
       "      <td>0.495852</td>\n",
       "      <td>...</td>\n",
       "      <td>8338.906181</td>\n",
       "      <td>11.626917</td>\n",
       "      <td>7.709560</td>\n",
       "      <td>0.97556</td>\n",
       "      <td>88.609437</td>\n",
       "      <td>13676.957810</td>\n",
       "      <td>0.196941</td>\n",
       "      <td>0</td>\n",
       "      <td>0</td>\n",
       "      <td>1</td>\n",
       "    </tr>\n",
       "    <tr>\n",
       "      <th>043ac50845d5</th>\n",
       "      <td>0.252107</td>\n",
       "      <td>3819.65177</td>\n",
       "      <td>77.112203</td>\n",
       "      <td>8.138688</td>\n",
       "      <td>1.229900</td>\n",
       "      <td>23.6577</td>\n",
       "      <td>237.282264</td>\n",
       "      <td>11.050410</td>\n",
       "      <td>257.432377</td>\n",
       "      <td>0.717882</td>\n",
       "      <td>...</td>\n",
       "      <td>10965.766040</td>\n",
       "      <td>14.852022</td>\n",
       "      <td>6.122162</td>\n",
       "      <td>0.49706</td>\n",
       "      <td>82.416803</td>\n",
       "      <td>2094.262452</td>\n",
       "      <td>0.155829</td>\n",
       "      <td>0</td>\n",
       "      <td>0</td>\n",
       "      <td>1</td>\n",
       "    </tr>\n",
       "    <tr>\n",
       "      <th>044fb8a146ec</th>\n",
       "      <td>0.380297</td>\n",
       "      <td>3733.04844</td>\n",
       "      <td>14.103738</td>\n",
       "      <td>8.138688</td>\n",
       "      <td>102.151980</td>\n",
       "      <td>24.0108</td>\n",
       "      <td>324.546318</td>\n",
       "      <td>149.717165</td>\n",
       "      <td>257.432377</td>\n",
       "      <td>0.536467</td>\n",
       "      <td>...</td>\n",
       "      <td>16198.049590</td>\n",
       "      <td>13.666727</td>\n",
       "      <td>8.153058</td>\n",
       "      <td>48.50134</td>\n",
       "      <td>146.109943</td>\n",
       "      <td>8524.370502</td>\n",
       "      <td>0.096614</td>\n",
       "      <td>1</td>\n",
       "      <td>0</td>\n",
       "      <td>1</td>\n",
       "    </tr>\n",
       "    <tr>\n",
       "      <th>...</th>\n",
       "      <td>...</td>\n",
       "      <td>...</td>\n",
       "      <td>...</td>\n",
       "      <td>...</td>\n",
       "      <td>...</td>\n",
       "      <td>...</td>\n",
       "      <td>...</td>\n",
       "      <td>...</td>\n",
       "      <td>...</td>\n",
       "      <td>...</td>\n",
       "      <td>...</td>\n",
       "      <td>...</td>\n",
       "      <td>...</td>\n",
       "      <td>...</td>\n",
       "      <td>...</td>\n",
       "      <td>...</td>\n",
       "      <td>...</td>\n",
       "      <td>...</td>\n",
       "      <td>...</td>\n",
       "      <td>...</td>\n",
       "      <td>...</td>\n",
       "    </tr>\n",
       "    <tr>\n",
       "      <th>fd3dafe738fd</th>\n",
       "      <td>0.149555</td>\n",
       "      <td>3130.05946</td>\n",
       "      <td>9.513984</td>\n",
       "      <td>13.020852</td>\n",
       "      <td>2.804172</td>\n",
       "      <td>21.1860</td>\n",
       "      <td>167.877117</td>\n",
       "      <td>27.287375</td>\n",
       "      <td>257.432377</td>\n",
       "      <td>0.691257</td>\n",
       "      <td>...</td>\n",
       "      <td>17167.209610</td>\n",
       "      <td>9.879296</td>\n",
       "      <td>0.173229</td>\n",
       "      <td>1.26092</td>\n",
       "      <td>217.148554</td>\n",
       "      <td>8095.932828</td>\n",
       "      <td>21.978000</td>\n",
       "      <td>0</td>\n",
       "      <td>1</td>\n",
       "      <td>0</td>\n",
       "    </tr>\n",
       "    <tr>\n",
       "      <th>fd895603f071</th>\n",
       "      <td>0.435846</td>\n",
       "      <td>5462.03438</td>\n",
       "      <td>46.551007</td>\n",
       "      <td>15.973224</td>\n",
       "      <td>3.777550</td>\n",
       "      <td>27.1887</td>\n",
       "      <td>285.628059</td>\n",
       "      <td>344.644105</td>\n",
       "      <td>257.432377</td>\n",
       "      <td>0.772304</td>\n",
       "      <td>...</td>\n",
       "      <td>18460.330020</td>\n",
       "      <td>10.910227</td>\n",
       "      <td>10.223150</td>\n",
       "      <td>1.24236</td>\n",
       "      <td>496.994214</td>\n",
       "      <td>3085.308063</td>\n",
       "      <td>0.145340</td>\n",
       "      <td>0</td>\n",
       "      <td>0</td>\n",
       "      <td>1</td>\n",
       "    </tr>\n",
       "    <tr>\n",
       "      <th>fd8ef6377f76</th>\n",
       "      <td>0.427300</td>\n",
       "      <td>2459.10720</td>\n",
       "      <td>55.355778</td>\n",
       "      <td>10.005552</td>\n",
       "      <td>1.229900</td>\n",
       "      <td>20.4798</td>\n",
       "      <td>178.661133</td>\n",
       "      <td>103.988995</td>\n",
       "      <td>257.432377</td>\n",
       "      <td>0.708616</td>\n",
       "      <td>...</td>\n",
       "      <td>5088.922912</td>\n",
       "      <td>12.029366</td>\n",
       "      <td>0.173229</td>\n",
       "      <td>0.49706</td>\n",
       "      <td>128.896894</td>\n",
       "      <td>6474.652866</td>\n",
       "      <td>21.978000</td>\n",
       "      <td>0</td>\n",
       "      <td>1</td>\n",
       "      <td>0</td>\n",
       "    </tr>\n",
       "    <tr>\n",
       "      <th>fe1942975e40</th>\n",
       "      <td>0.363205</td>\n",
       "      <td>1263.53524</td>\n",
       "      <td>23.685856</td>\n",
       "      <td>8.138688</td>\n",
       "      <td>1.229900</td>\n",
       "      <td>19.0674</td>\n",
       "      <td>119.162529</td>\n",
       "      <td>82.512333</td>\n",
       "      <td>257.432377</td>\n",
       "      <td>0.602254</td>\n",
       "      <td>...</td>\n",
       "      <td>6464.250832</td>\n",
       "      <td>8.026928</td>\n",
       "      <td>9.256996</td>\n",
       "      <td>0.78764</td>\n",
       "      <td>72.611063</td>\n",
       "      <td>1965.343176</td>\n",
       "      <td>0.184622</td>\n",
       "      <td>0</td>\n",
       "      <td>0</td>\n",
       "      <td>1</td>\n",
       "    </tr>\n",
       "    <tr>\n",
       "      <th>ffcca4ded3bb</th>\n",
       "      <td>0.482849</td>\n",
       "      <td>2672.53426</td>\n",
       "      <td>112.006102</td>\n",
       "      <td>8.138688</td>\n",
       "      <td>7.948668</td>\n",
       "      <td>21.1860</td>\n",
       "      <td>306.127863</td>\n",
       "      <td>6.090490</td>\n",
       "      <td>257.432377</td>\n",
       "      <td>0.644837</td>\n",
       "      <td>...</td>\n",
       "      <td>5895.352262</td>\n",
       "      <td>7.745765</td>\n",
       "      <td>0.173229</td>\n",
       "      <td>1.14492</td>\n",
       "      <td>72.611063</td>\n",
       "      <td>6850.484442</td>\n",
       "      <td>21.978000</td>\n",
       "      <td>0</td>\n",
       "      <td>1</td>\n",
       "      <td>0</td>\n",
       "    </tr>\n",
       "  </tbody>\n",
       "</table>\n",
       "<p>617 rows × 36 columns</p>\n",
       "</div>"
      ],
      "text/plain": [
       "                    AB          AF          AM         AR          BC  \\\n",
       "Id                                                                      \n",
       "000ff2bfdfe9  0.209377  3109.03329   22.394407   8.138688    5.555634   \n",
       "007255e47698  0.145282   978.76416   36.968889   8.138688    1.229900   \n",
       "013f2bd269f5  0.470030  2635.10654   32.360553   8.138688    1.229900   \n",
       "043ac50845d5  0.252107  3819.65177   77.112203   8.138688    1.229900   \n",
       "044fb8a146ec  0.380297  3733.04844   14.103738   8.138688  102.151980   \n",
       "...                ...         ...         ...        ...         ...   \n",
       "fd3dafe738fd  0.149555  3130.05946    9.513984  13.020852    2.804172   \n",
       "fd895603f071  0.435846  5462.03438   46.551007  15.973224    3.777550   \n",
       "fd8ef6377f76  0.427300  2459.10720   55.355778  10.005552    1.229900   \n",
       "fe1942975e40  0.363205  1263.53524   23.685856   8.138688    1.229900   \n",
       "ffcca4ded3bb  0.482849  2672.53426  112.006102   8.138688    7.948668   \n",
       "\n",
       "                   BN          BP          BQ          BZ        CC  ...  \\\n",
       "Id                                                                   ...   \n",
       "000ff2bfdfe9  22.5984  175.638726  152.707705  257.432377  0.563481  ...   \n",
       "007255e47698  19.4205  155.868030   14.754720  257.432377  0.484710  ...   \n",
       "013f2bd269f5  26.4825  128.988531  219.320160  257.432377  0.495852  ...   \n",
       "043ac50845d5  23.6577  237.282264   11.050410  257.432377  0.717882  ...   \n",
       "044fb8a146ec  24.0108  324.546318  149.717165  257.432377  0.536467  ...   \n",
       "...               ...         ...         ...         ...       ...  ...   \n",
       "fd3dafe738fd  21.1860  167.877117   27.287375  257.432377  0.691257  ...   \n",
       "fd895603f071  27.1887  285.628059  344.644105  257.432377  0.772304  ...   \n",
       "fd8ef6377f76  20.4798  178.661133  103.988995  257.432377  0.708616  ...   \n",
       "fe1942975e40  19.0674  119.162529   82.512333  257.432377  0.602254  ...   \n",
       "ffcca4ded3bb  21.1860  306.127863    6.090490  257.432377  0.644837  ...   \n",
       "\n",
       "                        FE         FI         FL        FR          GE  \\\n",
       "Id                                                                       \n",
       "000ff2bfdfe9   9028.291921   3.583450   7.298162   1.73855   72.611063   \n",
       "007255e47698   6785.003474  10.358927   0.173229   0.49706   72.611063   \n",
       "013f2bd269f5   8338.906181  11.626917   7.709560   0.97556   88.609437   \n",
       "043ac50845d5  10965.766040  14.852022   6.122162   0.49706   82.416803   \n",
       "044fb8a146ec  16198.049590  13.666727   8.153058  48.50134  146.109943   \n",
       "...                    ...        ...        ...       ...         ...   \n",
       "fd3dafe738fd  17167.209610   9.879296   0.173229   1.26092  217.148554   \n",
       "fd895603f071  18460.330020  10.910227  10.223150   1.24236  496.994214   \n",
       "fd8ef6377f76   5088.922912  12.029366   0.173229   0.49706  128.896894   \n",
       "fe1942975e40   6464.250832   8.026928   9.256996   0.78764   72.611063   \n",
       "ffcca4ded3bb   5895.352262   7.745765   0.173229   1.14492   72.611063   \n",
       "\n",
       "                        GF         GL  Class  A  B  \n",
       "Id                                                  \n",
       "000ff2bfdfe9   2003.810319   0.120343      1  0  1  \n",
       "007255e47698  27981.562750  21.978000      0  1  0  \n",
       "013f2bd269f5  13676.957810   0.196941      0  0  1  \n",
       "043ac50845d5   2094.262452   0.155829      0  0  1  \n",
       "044fb8a146ec   8524.370502   0.096614      1  0  1  \n",
       "...                    ...        ...    ... .. ..  \n",
       "fd3dafe738fd   8095.932828  21.978000      0  1  0  \n",
       "fd895603f071   3085.308063   0.145340      0  0  1  \n",
       "fd8ef6377f76   6474.652866  21.978000      0  1  0  \n",
       "fe1942975e40   1965.343176   0.184622      0  0  1  \n",
       "ffcca4ded3bb   6850.484442  21.978000      0  1  0  \n",
       "\n",
       "[617 rows x 36 columns]"
      ]
     },
     "execution_count": 12,
     "metadata": {},
     "output_type": "execute_result"
    }
   ],
   "source": [
    "data1.drop(columns = features_to_drop_final, axis = 1, inplace = True)\n",
    "data_object = data1.EJ\n",
    "dummies_df = pd.get_dummies(data_object)\n",
    "df_train = pd.concat([data1, dummies_df], axis = 1)\n",
    "df_train.drop('EJ', axis = 1, inplace = True)\n",
    "df_train"
   ]
  },
  {
   "cell_type": "code",
   "execution_count": 13,
   "id": "9b8cebf9",
   "metadata": {
    "execution": {
     "iopub.execute_input": "2023-10-16T06:49:58.864043Z",
     "iopub.status.busy": "2023-10-16T06:49:58.863017Z",
     "iopub.status.idle": "2023-10-16T06:49:58.870584Z",
     "shell.execute_reply": "2023-10-16T06:49:58.869389Z"
    },
    "papermill": {
     "duration": 0.023251,
     "end_time": "2023-10-16T06:49:58.872908",
     "exception": false,
     "start_time": "2023-10-16T06:49:58.849657",
     "status": "completed"
    },
    "tags": []
   },
   "outputs": [],
   "source": [
    "X = df_train.drop('Class', axis = 1)\n",
    "y = df_train.Class\n",
    "X_shuffle, y_shuffle = shuffle(X, y, random_state = 3247)\n",
    "#X_train, X_test, y_train, y_test = train_test_split(X, y, test_size = 0.25, stratify = y, random_state = 2312)"
   ]
  },
  {
   "cell_type": "code",
   "execution_count": 14,
   "id": "637a0f9d",
   "metadata": {
    "execution": {
     "iopub.execute_input": "2023-10-16T06:49:58.899461Z",
     "iopub.status.busy": "2023-10-16T06:49:58.898454Z",
     "iopub.status.idle": "2023-10-16T06:49:58.904405Z",
     "shell.execute_reply": "2023-10-16T06:49:58.903663Z"
    },
    "papermill": {
     "duration": 0.021137,
     "end_time": "2023-10-16T06:49:58.906179",
     "exception": false,
     "start_time": "2023-10-16T06:49:58.885042",
     "status": "completed"
    },
    "tags": []
   },
   "outputs": [
    {
     "data": {
      "text/plain": [
       "Index(['AB', 'AF', 'AM', 'AR', 'BC', 'BN', 'BP', 'BQ', 'BZ', 'CC', 'CD ', 'CR',\n",
       "       'CU', 'DA', 'DE', 'DF', 'DH', 'DI', 'DL', 'DU', 'DV', 'DY', 'EB', 'EE',\n",
       "       'EH', 'FD ', 'FE', 'FI', 'FL', 'FR', 'GE', 'GF', 'GL', 'Class', 'A',\n",
       "       'B'],\n",
       "      dtype='object')"
      ]
     },
     "execution_count": 14,
     "metadata": {},
     "output_type": "execute_result"
    }
   ],
   "source": [
    "df_train.columns"
   ]
  },
  {
   "cell_type": "markdown",
   "id": "d766a035",
   "metadata": {
    "papermill": {
     "duration": 0.011889,
     "end_time": "2023-10-16T06:49:58.930298",
     "exception": false,
     "start_time": "2023-10-16T06:49:58.918409",
     "status": "completed"
    },
    "tags": []
   },
   "source": [
    "### Use Xgboost classifier"
   ]
  },
  {
   "cell_type": "code",
   "execution_count": 15,
   "id": "d33ed7df",
   "metadata": {
    "execution": {
     "iopub.execute_input": "2023-10-16T06:49:58.956575Z",
     "iopub.status.busy": "2023-10-16T06:49:58.955618Z",
     "iopub.status.idle": "2023-10-16T06:49:59.418515Z",
     "shell.execute_reply": "2023-10-16T06:49:59.417620Z"
    },
    "papermill": {
     "duration": 0.478622,
     "end_time": "2023-10-16T06:49:59.420980",
     "exception": false,
     "start_time": "2023-10-16T06:49:58.942358",
     "status": "completed"
    },
    "tags": []
   },
   "outputs": [
    {
     "name": "stdout",
     "output_type": "stream",
     "text": [
      "{'base_score': 0.3, 'colsample_bylevel': 0.8, 'colsample_bynode': 0.3, 'colsample_bytree': 0.6, 'max_depth': 5, 'n_estimators': 110, 'scale_pos_weight': 9, 'subsample': 1.0} \n",
      "\n",
      "Best f1 score: 0.7868011526154525 \n",
      "\n"
     ]
    }
   ],
   "source": [
    "estimator_XG = XGBClassifier(booster = 'gbtree', \n",
    "                             eval_metric = 'logloss',\n",
    "                             tree_method = 'exact', \n",
    "                             random_state = 123, \n",
    "                             grow_policy = 'lossguide',\n",
    "                             eta = 0,\n",
    "                             learning_rate = 0.2, \n",
    "                             gamma = 0\n",
    "                            )\n",
    "\n",
    "params = {'n_estimators' : [110], \n",
    "          'max_depth' : [5],  \n",
    "          'subsample' : [1.0],\n",
    "          'scale_pos_weight' : [9], \n",
    "          'base_score' : [0.3],\n",
    "          'colsample_bynode' : [0.3],\n",
    "          'colsample_bytree' : [0.6],\n",
    "          'colsample_bylevel' : [0.8]\n",
    "         }\n",
    "\n",
    "search_XG = GridSearchCV(estimator_XG, params, scoring = 'f1', cv = 4)\n",
    "search_XG.fit(X_shuffle, y_shuffle)\n",
    "\n",
    "print(search_XG.best_params_, '\\n')\n",
    "print('Best f1 score:', search_XG.best_score_, '\\n')"
   ]
  },
  {
   "cell_type": "code",
   "execution_count": 16,
   "id": "2ad232a4",
   "metadata": {
    "execution": {
     "iopub.execute_input": "2023-10-16T06:49:59.453178Z",
     "iopub.status.busy": "2023-10-16T06:49:59.452824Z",
     "iopub.status.idle": "2023-10-16T06:49:59.809071Z",
     "shell.execute_reply": "2023-10-16T06:49:59.807901Z"
    },
    "papermill": {
     "duration": 0.37527,
     "end_time": "2023-10-16T06:49:59.811170",
     "exception": false,
     "start_time": "2023-10-16T06:49:59.435900",
     "status": "completed"
    },
    "tags": []
   },
   "outputs": [
    {
     "name": "stdout",
     "output_type": "stream",
     "text": [
      "Accuracy: 0.927 \n",
      "\n",
      "              precision    recall  f1-score   support\n",
      "\n",
      "           0       0.96      0.95      0.96       509\n",
      "           1       0.79      0.80      0.79       108\n",
      "\n",
      "    accuracy                           0.93       617\n",
      "   macro avg       0.87      0.88      0.87       617\n",
      "weighted avg       0.93      0.93      0.93       617\n",
      " \n",
      "\n",
      "[[486  23]\n",
      " [ 22  86]]\n"
     ]
    }
   ],
   "source": [
    "y_hat = cross_val_predict(search_XG.best_estimator_, X, y, cv = 4)\n",
    "print('Accuracy:', round(accuracy_score(y, y_hat), 3), '\\n')\n",
    "print(classification_report(y, y_hat), '\\n')\n",
    "print(confusion_matrix(y, y_hat))"
   ]
  },
  {
   "cell_type": "code",
   "execution_count": 17,
   "id": "38ae0fb4",
   "metadata": {
    "execution": {
     "iopub.execute_input": "2023-10-16T06:49:59.837926Z",
     "iopub.status.busy": "2023-10-16T06:49:59.837252Z",
     "iopub.status.idle": "2023-10-16T06:50:00.176834Z",
     "shell.execute_reply": "2023-10-16T06:50:00.175377Z"
    },
    "papermill": {
     "duration": 0.3553,
     "end_time": "2023-10-16T06:50:00.179060",
     "exception": false,
     "start_time": "2023-10-16T06:49:59.823760",
     "status": "completed"
    },
    "tags": []
   },
   "outputs": [
    {
     "name": "stdout",
     "output_type": "stream",
     "text": [
      "Accuracies: [0.93548387 0.92207792 0.91558442 0.93506494] \n",
      "\n",
      "Mean accuracy: 0.927 Std deviation: 0.009\n"
     ]
    }
   ],
   "source": [
    "acc_array = cross_val_score(search_XG.best_estimator_, X, y, scoring = 'accuracy', cv = 4)\n",
    "print('Accuracies:', acc_array, '\\n')\n",
    "print('Mean accuracy:', round(acc_array.mean(), 3), 'Std deviation:', round(acc_array.std(), 3))"
   ]
  },
  {
   "cell_type": "code",
   "execution_count": 18,
   "id": "943e27c4",
   "metadata": {
    "execution": {
     "iopub.execute_input": "2023-10-16T06:50:00.207939Z",
     "iopub.status.busy": "2023-10-16T06:50:00.207283Z",
     "iopub.status.idle": "2023-10-16T06:50:00.546523Z",
     "shell.execute_reply": "2023-10-16T06:50:00.545665Z"
    },
    "papermill": {
     "duration": 0.355173,
     "end_time": "2023-10-16T06:50:00.548892",
     "exception": false,
     "start_time": "2023-10-16T06:50:00.193719",
     "status": "completed"
    },
    "tags": []
   },
   "outputs": [],
   "source": [
    "probs = cross_val_predict(search_XG.best_estimator_, X, y, cv = 4, method = 'predict_proba')\n",
    "prob_0_train = probs[:, 0]\n",
    "prob_1_train = probs[:, 1]"
   ]
  },
  {
   "cell_type": "code",
   "execution_count": 19,
   "id": "f5c9a78b",
   "metadata": {
    "execution": {
     "iopub.execute_input": "2023-10-16T06:50:00.578053Z",
     "iopub.status.busy": "2023-10-16T06:50:00.577323Z",
     "iopub.status.idle": "2023-10-16T06:50:00.582959Z",
     "shell.execute_reply": "2023-10-16T06:50:00.582174Z"
    },
    "papermill": {
     "duration": 0.021182,
     "end_time": "2023-10-16T06:50:00.584963",
     "exception": false,
     "start_time": "2023-10-16T06:50:00.563781",
     "status": "completed"
    },
    "tags": []
   },
   "outputs": [],
   "source": [
    "def balanced_log_loss(y_true, y_pred, prob_0, prob_1):\n",
    "    N_0 = np.sum(1 - y_true)\n",
    "    N_1 = np.sum(y_true)\n",
    "    # calculate the weights for each class to balance classes\n",
    "    w_0 = 1 / N_0\n",
    "    w_1 = 1 / N_1\n",
    "    # calculate the predicted probabilities for each class\n",
    "    p_0 = prob_0\n",
    "    p_1 = prob_1\n",
    "    # calculate the summed log loss for each class\n",
    "    log_loss_0 = -np.sum((1 - y_true) * np.log(p_0))\n",
    "    log_loss_1 = -np.sum(y_true * np.log(p_1))\n",
    "    # calculate the weighted summed logarithmic loss\n",
    "    balanced_log_loss = (w_0 * log_loss_0 + w_1 * log_loss_1) / 2\n",
    "    # return the average log loss\n",
    "    return balanced_log_loss"
   ]
  },
  {
   "cell_type": "code",
   "execution_count": 20,
   "id": "41a480b5",
   "metadata": {
    "execution": {
     "iopub.execute_input": "2023-10-16T06:50:00.612275Z",
     "iopub.status.busy": "2023-10-16T06:50:00.611563Z",
     "iopub.status.idle": "2023-10-16T06:50:00.618281Z",
     "shell.execute_reply": "2023-10-16T06:50:00.617508Z"
    },
    "papermill": {
     "duration": 0.022473,
     "end_time": "2023-10-16T06:50:00.620272",
     "exception": false,
     "start_time": "2023-10-16T06:50:00.597799",
     "status": "completed"
    },
    "tags": []
   },
   "outputs": [
    {
     "data": {
      "text/plain": [
       "0.3108375050400523"
      ]
     },
     "execution_count": 20,
     "metadata": {},
     "output_type": "execute_result"
    }
   ],
   "source": [
    "balanced_log_loss(y, y_hat, prob_0_train, prob_1_train)"
   ]
  },
  {
   "cell_type": "code",
   "execution_count": 21,
   "id": "768e5cf7",
   "metadata": {
    "execution": {
     "iopub.execute_input": "2023-10-16T06:50:00.647154Z",
     "iopub.status.busy": "2023-10-16T06:50:00.646777Z",
     "iopub.status.idle": "2023-10-16T06:50:00.997322Z",
     "shell.execute_reply": "2023-10-16T06:50:00.996157Z"
    },
    "papermill": {
     "duration": 0.366911,
     "end_time": "2023-10-16T06:50:00.999804",
     "exception": false,
     "start_time": "2023-10-16T06:50:00.632893",
     "status": "completed"
    },
    "tags": []
   },
   "outputs": [],
   "source": [
    "final_estimator = search_XG.best_estimator_\n",
    "train_proba = cross_val_predict(final_estimator, X, y, cv = 4, method = 'predict_proba')\n",
    "\n",
    "df_check = pd.DataFrame({\n",
    "    #'Id' : X.index,\n",
    "    'class_0' : train_proba[:, 0],\n",
    "    'class_1' : train_proba[:, 1],\n",
    "    'y_train' : y,\n",
    "    'y_predicted' : y_hat\n",
    "})\n",
    "df_class_0 = df_check[['class_0', 'y_train', 'y_predicted']]\n",
    "df_class_1 = df_check[['class_1', 'y_train', 'y_predicted']]"
   ]
  },
  {
   "cell_type": "code",
   "execution_count": 22,
   "id": "774d2147",
   "metadata": {
    "execution": {
     "iopub.execute_input": "2023-10-16T06:50:01.030538Z",
     "iopub.status.busy": "2023-10-16T06:50:01.030180Z",
     "iopub.status.idle": "2023-10-16T06:50:01.053669Z",
     "shell.execute_reply": "2023-10-16T06:50:01.052798Z"
    },
    "papermill": {
     "duration": 0.039469,
     "end_time": "2023-10-16T06:50:01.055689",
     "exception": false,
     "start_time": "2023-10-16T06:50:01.016220",
     "status": "completed"
    },
    "tags": []
   },
   "outputs": [
    {
     "data": {
      "text/plain": [
       "(                      class_0\n",
       " y_train y_predicted          \n",
       " 0       0            0.976192\n",
       "         1            0.204644\n",
       " 1       0            0.758168\n",
       "         1            0.084731,\n",
       "                       class_0\n",
       " y_train y_predicted          \n",
       " 0       0            0.999956\n",
       "         1            0.473876\n",
       " 1       0            0.998841\n",
       "         1            0.461716)"
      ]
     },
     "execution_count": 22,
     "metadata": {},
     "output_type": "execute_result"
    }
   ],
   "source": [
    "df_class_0.groupby(['y_train', 'y_predicted']).mean(),df_class_0.groupby(['y_train', 'y_predicted']).max()"
   ]
  },
  {
   "cell_type": "code",
   "execution_count": 23,
   "id": "ff32668a",
   "metadata": {
    "execution": {
     "iopub.execute_input": "2023-10-16T06:50:01.082902Z",
     "iopub.status.busy": "2023-10-16T06:50:01.081774Z",
     "iopub.status.idle": "2023-10-16T06:50:01.097171Z",
     "shell.execute_reply": "2023-10-16T06:50:01.096209Z"
    },
    "papermill": {
     "duration": 0.030837,
     "end_time": "2023-10-16T06:50:01.099185",
     "exception": false,
     "start_time": "2023-10-16T06:50:01.068348",
     "status": "completed"
    },
    "tags": []
   },
   "outputs": [
    {
     "data": {
      "text/plain": [
       "0"
      ]
     },
     "execution_count": 23,
     "metadata": {},
     "output_type": "execute_result"
    }
   ],
   "source": [
    "imputer = KNNImputer()\n",
    "data_test_to_impute = test.drop(columns = 'EJ', axis = 1)\n",
    "data_test_imputed = imputer.fit_transform(data_test_to_impute)\n",
    "data_test_imp = pd.DataFrame(data = data_test_imputed, index = data_test_to_impute.index, columns = data_test_to_impute.columns.to_list())\n",
    "data_test_1 = pd.concat([data_test_imp, test.EJ], axis = 1)\n",
    "data_test_1.isnull().sum().sum()"
   ]
  },
  {
   "cell_type": "code",
   "execution_count": 24,
   "id": "cd7ec43e",
   "metadata": {
    "execution": {
     "iopub.execute_input": "2023-10-16T06:50:01.127263Z",
     "iopub.status.busy": "2023-10-16T06:50:01.126194Z",
     "iopub.status.idle": "2023-10-16T06:50:01.132935Z",
     "shell.execute_reply": "2023-10-16T06:50:01.132101Z"
    },
    "papermill": {
     "duration": 0.023062,
     "end_time": "2023-10-16T06:50:01.134928",
     "exception": false,
     "start_time": "2023-10-16T06:50:01.111866",
     "status": "completed"
    },
    "tags": []
   },
   "outputs": [
    {
     "data": {
      "text/plain": [
       "['CF',\n",
       " 'CB',\n",
       " 'EL',\n",
       " 'BR',\n",
       " 'FC',\n",
       " 'CH',\n",
       " 'AH',\n",
       " 'EG',\n",
       " 'AZ',\n",
       " 'DN',\n",
       " 'CS',\n",
       " 'EP',\n",
       " 'CL',\n",
       " 'AY',\n",
       " 'BD ',\n",
       " 'EU',\n",
       " 'CW ',\n",
       " 'GI',\n",
       " 'GH',\n",
       " 'AX',\n",
       " 'GB',\n",
       " 'FS']"
      ]
     },
     "execution_count": 24,
     "metadata": {},
     "output_type": "execute_result"
    }
   ],
   "source": [
    "features_to_drop_final"
   ]
  },
  {
   "cell_type": "code",
   "execution_count": 25,
   "id": "a4feea8d",
   "metadata": {
    "execution": {
     "iopub.execute_input": "2023-10-16T06:50:01.162282Z",
     "iopub.status.busy": "2023-10-16T06:50:01.161895Z",
     "iopub.status.idle": "2023-10-16T06:50:01.168401Z",
     "shell.execute_reply": "2023-10-16T06:50:01.167261Z"
    },
    "papermill": {
     "duration": 0.022977,
     "end_time": "2023-10-16T06:50:01.170662",
     "exception": false,
     "start_time": "2023-10-16T06:50:01.147685",
     "status": "completed"
    },
    "tags": []
   },
   "outputs": [],
   "source": [
    "data_test_1=test[['AB', 'AF', 'AM', 'AR', 'BC', 'BN', 'BP', 'BQ', 'BZ', 'CC', 'CD ', 'CR',\n",
    "       'CU', 'DA', 'DE', 'DF', 'DH', 'DI', 'DL', 'DU', 'DV', 'DY', 'EB', 'EE',\n",
    "       'EH', 'FD ', 'FE', 'FI', 'FL', 'FR', 'GE', 'GF', 'GL','EJ']]"
   ]
  },
  {
   "cell_type": "code",
   "execution_count": 26,
   "id": "f1723895",
   "metadata": {
    "execution": {
     "iopub.execute_input": "2023-10-16T06:50:01.198115Z",
     "iopub.status.busy": "2023-10-16T06:50:01.197744Z",
     "iopub.status.idle": "2023-10-16T06:50:01.228007Z",
     "shell.execute_reply": "2023-10-16T06:50:01.226877Z"
    },
    "papermill": {
     "duration": 0.046287,
     "end_time": "2023-10-16T06:50:01.230165",
     "exception": false,
     "start_time": "2023-10-16T06:50:01.183878",
     "status": "completed"
    },
    "tags": []
   },
   "outputs": [
    {
     "name": "stdout",
     "output_type": "stream",
     "text": [
      "34\n"
     ]
    },
    {
     "data": {
      "text/html": [
       "<div>\n",
       "<style scoped>\n",
       "    .dataframe tbody tr th:only-of-type {\n",
       "        vertical-align: middle;\n",
       "    }\n",
       "\n",
       "    .dataframe tbody tr th {\n",
       "        vertical-align: top;\n",
       "    }\n",
       "\n",
       "    .dataframe thead th {\n",
       "        text-align: right;\n",
       "    }\n",
       "</style>\n",
       "<table border=\"1\" class=\"dataframe\">\n",
       "  <thead>\n",
       "    <tr style=\"text-align: right;\">\n",
       "      <th></th>\n",
       "      <th>AB</th>\n",
       "      <th>AF</th>\n",
       "      <th>AM</th>\n",
       "      <th>AR</th>\n",
       "      <th>BC</th>\n",
       "      <th>BN</th>\n",
       "      <th>BP</th>\n",
       "      <th>BQ</th>\n",
       "      <th>BZ</th>\n",
       "      <th>CC</th>\n",
       "      <th>...</th>\n",
       "      <th>EH</th>\n",
       "      <th>FD</th>\n",
       "      <th>FE</th>\n",
       "      <th>FI</th>\n",
       "      <th>FL</th>\n",
       "      <th>FR</th>\n",
       "      <th>GE</th>\n",
       "      <th>GF</th>\n",
       "      <th>GL</th>\n",
       "      <th>A</th>\n",
       "    </tr>\n",
       "    <tr>\n",
       "      <th>Id</th>\n",
       "      <th></th>\n",
       "      <th></th>\n",
       "      <th></th>\n",
       "      <th></th>\n",
       "      <th></th>\n",
       "      <th></th>\n",
       "      <th></th>\n",
       "      <th></th>\n",
       "      <th></th>\n",
       "      <th></th>\n",
       "      <th></th>\n",
       "      <th></th>\n",
       "      <th></th>\n",
       "      <th></th>\n",
       "      <th></th>\n",
       "      <th></th>\n",
       "      <th></th>\n",
       "      <th></th>\n",
       "      <th></th>\n",
       "      <th></th>\n",
       "      <th></th>\n",
       "    </tr>\n",
       "  </thead>\n",
       "  <tbody>\n",
       "    <tr>\n",
       "      <th>00eed32682bb</th>\n",
       "      <td>0.0</td>\n",
       "      <td>0.0</td>\n",
       "      <td>0.0</td>\n",
       "      <td>0.0</td>\n",
       "      <td>0.0</td>\n",
       "      <td>0.0</td>\n",
       "      <td>0.0</td>\n",
       "      <td>0.0</td>\n",
       "      <td>0.0</td>\n",
       "      <td>0.0</td>\n",
       "      <td>...</td>\n",
       "      <td>0.0</td>\n",
       "      <td>0.0</td>\n",
       "      <td>0.0</td>\n",
       "      <td>0.0</td>\n",
       "      <td>0.0</td>\n",
       "      <td>0.0</td>\n",
       "      <td>0.0</td>\n",
       "      <td>0.0</td>\n",
       "      <td>0.0</td>\n",
       "      <td>1</td>\n",
       "    </tr>\n",
       "    <tr>\n",
       "      <th>010ebe33f668</th>\n",
       "      <td>0.0</td>\n",
       "      <td>0.0</td>\n",
       "      <td>0.0</td>\n",
       "      <td>0.0</td>\n",
       "      <td>0.0</td>\n",
       "      <td>0.0</td>\n",
       "      <td>0.0</td>\n",
       "      <td>0.0</td>\n",
       "      <td>0.0</td>\n",
       "      <td>0.0</td>\n",
       "      <td>...</td>\n",
       "      <td>0.0</td>\n",
       "      <td>0.0</td>\n",
       "      <td>0.0</td>\n",
       "      <td>0.0</td>\n",
       "      <td>0.0</td>\n",
       "      <td>0.0</td>\n",
       "      <td>0.0</td>\n",
       "      <td>0.0</td>\n",
       "      <td>0.0</td>\n",
       "      <td>1</td>\n",
       "    </tr>\n",
       "    <tr>\n",
       "      <th>02fa521e1838</th>\n",
       "      <td>0.0</td>\n",
       "      <td>0.0</td>\n",
       "      <td>0.0</td>\n",
       "      <td>0.0</td>\n",
       "      <td>0.0</td>\n",
       "      <td>0.0</td>\n",
       "      <td>0.0</td>\n",
       "      <td>0.0</td>\n",
       "      <td>0.0</td>\n",
       "      <td>0.0</td>\n",
       "      <td>...</td>\n",
       "      <td>0.0</td>\n",
       "      <td>0.0</td>\n",
       "      <td>0.0</td>\n",
       "      <td>0.0</td>\n",
       "      <td>0.0</td>\n",
       "      <td>0.0</td>\n",
       "      <td>0.0</td>\n",
       "      <td>0.0</td>\n",
       "      <td>0.0</td>\n",
       "      <td>1</td>\n",
       "    </tr>\n",
       "    <tr>\n",
       "      <th>040e15f562a2</th>\n",
       "      <td>0.0</td>\n",
       "      <td>0.0</td>\n",
       "      <td>0.0</td>\n",
       "      <td>0.0</td>\n",
       "      <td>0.0</td>\n",
       "      <td>0.0</td>\n",
       "      <td>0.0</td>\n",
       "      <td>0.0</td>\n",
       "      <td>0.0</td>\n",
       "      <td>0.0</td>\n",
       "      <td>...</td>\n",
       "      <td>0.0</td>\n",
       "      <td>0.0</td>\n",
       "      <td>0.0</td>\n",
       "      <td>0.0</td>\n",
       "      <td>0.0</td>\n",
       "      <td>0.0</td>\n",
       "      <td>0.0</td>\n",
       "      <td>0.0</td>\n",
       "      <td>0.0</td>\n",
       "      <td>1</td>\n",
       "    </tr>\n",
       "    <tr>\n",
       "      <th>046e85c7cc7f</th>\n",
       "      <td>0.0</td>\n",
       "      <td>0.0</td>\n",
       "      <td>0.0</td>\n",
       "      <td>0.0</td>\n",
       "      <td>0.0</td>\n",
       "      <td>0.0</td>\n",
       "      <td>0.0</td>\n",
       "      <td>0.0</td>\n",
       "      <td>0.0</td>\n",
       "      <td>0.0</td>\n",
       "      <td>...</td>\n",
       "      <td>0.0</td>\n",
       "      <td>0.0</td>\n",
       "      <td>0.0</td>\n",
       "      <td>0.0</td>\n",
       "      <td>0.0</td>\n",
       "      <td>0.0</td>\n",
       "      <td>0.0</td>\n",
       "      <td>0.0</td>\n",
       "      <td>0.0</td>\n",
       "      <td>1</td>\n",
       "    </tr>\n",
       "  </tbody>\n",
       "</table>\n",
       "<p>5 rows × 34 columns</p>\n",
       "</div>"
      ],
      "text/plain": [
       "               AB   AF   AM   AR   BC   BN   BP   BQ   BZ   CC  ...   EH  FD   \\\n",
       "Id                                                              ...             \n",
       "00eed32682bb  0.0  0.0  0.0  0.0  0.0  0.0  0.0  0.0  0.0  0.0  ...  0.0  0.0   \n",
       "010ebe33f668  0.0  0.0  0.0  0.0  0.0  0.0  0.0  0.0  0.0  0.0  ...  0.0  0.0   \n",
       "02fa521e1838  0.0  0.0  0.0  0.0  0.0  0.0  0.0  0.0  0.0  0.0  ...  0.0  0.0   \n",
       "040e15f562a2  0.0  0.0  0.0  0.0  0.0  0.0  0.0  0.0  0.0  0.0  ...  0.0  0.0   \n",
       "046e85c7cc7f  0.0  0.0  0.0  0.0  0.0  0.0  0.0  0.0  0.0  0.0  ...  0.0  0.0   \n",
       "\n",
       "               FE   FI   FL   FR   GE   GF   GL  A  \n",
       "Id                                                  \n",
       "00eed32682bb  0.0  0.0  0.0  0.0  0.0  0.0  0.0  1  \n",
       "010ebe33f668  0.0  0.0  0.0  0.0  0.0  0.0  0.0  1  \n",
       "02fa521e1838  0.0  0.0  0.0  0.0  0.0  0.0  0.0  1  \n",
       "040e15f562a2  0.0  0.0  0.0  0.0  0.0  0.0  0.0  1  \n",
       "046e85c7cc7f  0.0  0.0  0.0  0.0  0.0  0.0  0.0  1  \n",
       "\n",
       "[5 rows x 34 columns]"
      ]
     },
     "execution_count": 26,
     "metadata": {},
     "output_type": "execute_result"
    }
   ],
   "source": [
    "# columns_to_drop_corr=[ 'DV', 'AR', 'EH', 'FD', 'BZ']\n",
    "# # data_test_1.drop(columns = columns_to_drop_corr, axis = 1, inplace = True)        \n",
    "# data_test_1.drop(columns = features_to_drop_final, axis = 1, inplace = True)\n",
    "print(len(data_test_1.columns.to_list()))\n",
    "\n",
    "data_test_1_object = data_test_1.EJ\n",
    "dummies_df = pd.get_dummies(data_test_1_object)\n",
    "df_test = pd.concat([data_test_1, dummies_df], axis = 1)\n",
    "df_test.drop('EJ', axis = 1, inplace = True)\n",
    "df_test"
   ]
  },
  {
   "cell_type": "code",
   "execution_count": 27,
   "id": "562535a0",
   "metadata": {
    "execution": {
     "iopub.execute_input": "2023-10-16T06:50:01.258724Z",
     "iopub.status.busy": "2023-10-16T06:50:01.257663Z",
     "iopub.status.idle": "2023-10-16T06:50:01.265607Z",
     "shell.execute_reply": "2023-10-16T06:50:01.264712Z"
    },
    "papermill": {
     "duration": 0.024256,
     "end_time": "2023-10-16T06:50:01.267664",
     "exception": false,
     "start_time": "2023-10-16T06:50:01.243408",
     "status": "completed"
    },
    "tags": []
   },
   "outputs": [
    {
     "data": {
      "text/plain": [
       "(5, 35)"
      ]
     },
     "execution_count": 27,
     "metadata": {},
     "output_type": "execute_result"
    }
   ],
   "source": [
    "df_test['B'] = np.abs(df_test['A'] - 1)\n",
    "df_test.shape"
   ]
  },
  {
   "cell_type": "code",
   "execution_count": 28,
   "id": "a9e79107",
   "metadata": {
    "execution": {
     "iopub.execute_input": "2023-10-16T06:50:01.296358Z",
     "iopub.status.busy": "2023-10-16T06:50:01.295954Z",
     "iopub.status.idle": "2023-10-16T06:50:01.310539Z",
     "shell.execute_reply": "2023-10-16T06:50:01.309686Z"
    },
    "papermill": {
     "duration": 0.031974,
     "end_time": "2023-10-16T06:50:01.312910",
     "exception": false,
     "start_time": "2023-10-16T06:50:01.280936",
     "status": "completed"
    },
    "tags": []
   },
   "outputs": [
    {
     "data": {
      "text/plain": [
       "array([[0.90183496, 0.09816502],\n",
       "       [0.90183496, 0.09816502],\n",
       "       [0.90183496, 0.09816502],\n",
       "       [0.90183496, 0.09816502],\n",
       "       [0.90183496, 0.09816502]], dtype=float32)"
      ]
     },
     "execution_count": 28,
     "metadata": {},
     "output_type": "execute_result"
    }
   ],
   "source": [
    "X_t = df_test\n",
    "prob_predictions = final_estimator.predict_proba(X_t)\n",
    "prob_predictions"
   ]
  },
  {
   "cell_type": "code",
   "execution_count": 29,
   "id": "52fe7f95",
   "metadata": {
    "execution": {
     "iopub.execute_input": "2023-10-16T06:50:01.343705Z",
     "iopub.status.busy": "2023-10-16T06:50:01.343322Z",
     "iopub.status.idle": "2023-10-16T06:50:01.350755Z",
     "shell.execute_reply": "2023-10-16T06:50:01.349750Z"
    },
    "papermill": {
     "duration": 0.02417,
     "end_time": "2023-10-16T06:50:01.352843",
     "exception": false,
     "start_time": "2023-10-16T06:50:01.328673",
     "status": "completed"
    },
    "tags": []
   },
   "outputs": [
    {
     "data": {
      "text/plain": [
       "array([0.90183496, 0.90183496, 0.90183496, 0.90183496, 0.90183496],\n",
       "      dtype=float32)"
      ]
     },
     "execution_count": 29,
     "metadata": {},
     "output_type": "execute_result"
    }
   ],
   "source": [
    "prob_0 = prob_predictions[:, 0]\n",
    "prob_0"
   ]
  },
  {
   "cell_type": "code",
   "execution_count": 30,
   "id": "834b333f",
   "metadata": {
    "execution": {
     "iopub.execute_input": "2023-10-16T06:50:01.381250Z",
     "iopub.status.busy": "2023-10-16T06:50:01.380870Z",
     "iopub.status.idle": "2023-10-16T06:50:01.387765Z",
     "shell.execute_reply": "2023-10-16T06:50:01.386667Z"
    },
    "papermill": {
     "duration": 0.023604,
     "end_time": "2023-10-16T06:50:01.389717",
     "exception": false,
     "start_time": "2023-10-16T06:50:01.366113",
     "status": "completed"
    },
    "tags": []
   },
   "outputs": [
    {
     "data": {
      "text/plain": [
       "array([0., 0., 0., 0., 0.], dtype=float32)"
      ]
     },
     "execution_count": 30,
     "metadata": {},
     "output_type": "execute_result"
    }
   ],
   "source": [
    "#thresholds are taken from Thresholds estimation\n",
    "prob_0[prob_0 > 0.86] = 1\n",
    "#prob_0[prob_0 < 0.12] = 0\n",
    "prob_1 = 1 - prob_0\n",
    "prob_1"
   ]
  },
  {
   "cell_type": "code",
   "execution_count": 31,
   "id": "2c13f18a",
   "metadata": {
    "execution": {
     "iopub.execute_input": "2023-10-16T06:50:01.419284Z",
     "iopub.status.busy": "2023-10-16T06:50:01.418222Z",
     "iopub.status.idle": "2023-10-16T06:50:01.423686Z",
     "shell.execute_reply": "2023-10-16T06:50:01.422760Z"
    },
    "papermill": {
     "duration": 0.022402,
     "end_time": "2023-10-16T06:50:01.425788",
     "exception": false,
     "start_time": "2023-10-16T06:50:01.403386",
     "status": "completed"
    },
    "tags": []
   },
   "outputs": [],
   "source": [
    "submission = pd.DataFrame({\n",
    "    'Id' : X_t.index,\n",
    "    'class_0' : prob_0,\n",
    "    'class_1' : prob_1\n",
    "})"
   ]
  },
  {
   "cell_type": "code",
   "execution_count": 32,
   "id": "ff5d280a",
   "metadata": {
    "execution": {
     "iopub.execute_input": "2023-10-16T06:50:01.454291Z",
     "iopub.status.busy": "2023-10-16T06:50:01.453944Z",
     "iopub.status.idle": "2023-10-16T06:50:01.461194Z",
     "shell.execute_reply": "2023-10-16T06:50:01.459887Z"
    },
    "papermill": {
     "duration": 0.024437,
     "end_time": "2023-10-16T06:50:01.463586",
     "exception": false,
     "start_time": "2023-10-16T06:50:01.439149",
     "status": "completed"
    },
    "tags": []
   },
   "outputs": [],
   "source": [
    "submission.to_csv('submission.csv',  index = False)"
   ]
  },
  {
   "cell_type": "code",
   "execution_count": 33,
   "id": "5b09d595",
   "metadata": {
    "execution": {
     "iopub.execute_input": "2023-10-16T06:50:01.494851Z",
     "iopub.status.busy": "2023-10-16T06:50:01.494094Z",
     "iopub.status.idle": "2023-10-16T06:50:01.498418Z",
     "shell.execute_reply": "2023-10-16T06:50:01.497712Z"
    },
    "papermill": {
     "duration": 0.02083,
     "end_time": "2023-10-16T06:50:01.500199",
     "exception": false,
     "start_time": "2023-10-16T06:50:01.479369",
     "status": "completed"
    },
    "tags": []
   },
   "outputs": [],
   "source": [
    "#https://www.kaggle.com/code/pablo94/xgb-public-score-0-15"
   ]
  }
 ],
 "metadata": {
  "kernelspec": {
   "display_name": "Python 3",
   "language": "python",
   "name": "python3"
  },
  "language_info": {
   "codemirror_mode": {
    "name": "ipython",
    "version": 3
   },
   "file_extension": ".py",
   "mimetype": "text/x-python",
   "name": "python",
   "nbconvert_exporter": "python",
   "pygments_lexer": "ipython3",
   "version": "3.10.12"
  },
  "papermill": {
   "default_parameters": {},
   "duration": 18.557925,
   "end_time": "2023-10-16T06:50:02.535052",
   "environment_variables": {},
   "exception": null,
   "input_path": "__notebook__.ipynb",
   "output_path": "__notebook__.ipynb",
   "parameters": {},
   "start_time": "2023-10-16T06:49:43.977127",
   "version": "2.4.0"
  }
 },
 "nbformat": 4,
 "nbformat_minor": 5
}
